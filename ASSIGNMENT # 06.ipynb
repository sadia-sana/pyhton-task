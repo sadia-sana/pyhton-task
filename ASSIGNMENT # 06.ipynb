{
 "cells": [
  {
   "cell_type": "markdown",
   "metadata": {},
   "source": [
    "Question 1\n",
    "\n",
    "# Objected-Oriented Programming\n",
    "\n",
    "**Object oriented programming** (OOP) refers to a type of computer programming (software design) in which programmers define the data type of a data structure, and also the types of operations (functions) that can be applied to the data structure"
   ]
  },
  {
   "cell_type": "markdown",
   "metadata": {},
   "source": [
    "Question 2\n",
    "\n",
    "## Benits of OOPs\n",
    "\n",
    "- Incresed programmer discipline pays.\n",
    "- Encapsulation & decomposition pays.\n",
    "- Code reuse is possible.\n",
    "- Principles of data hiding helps for seccurity. \n"
   ]
  },
  {
   "cell_type": "markdown",
   "metadata": {},
   "source": [
    "Question 3\n",
    "\n",
    "### Difference b/w method and function\n",
    "\n",
    "A **function** is a piece of code that is called by name. It can be passed data to operate on (i.e. the parameters) and can optionally return data (the return value). All data that is passed to a function is explicitly passed.\n",
    "\n",
    "A **method** is a piece of code that is called by a name that is associated with an object. In most respects it is identical to a function except for two key differences:"
   ]
  },
  {
   "cell_type": "markdown",
   "metadata": {},
   "source": [
    "Question 4\n",
    "\n",
    "1. ### CLASS\n",
    "A class is an entity that determines how an object will behave and what the object will contain. In other words, it is a blueprint or a set of instruction to build a specific type of object.\n",
    "\n",
    "\n",
    "2. ### OBJECT\n",
    "Object determines the behavior of the class. When you send a message to an object, you are asking the object to invoke or execute one of its methods.\n",
    "\n",
    "\n",
    "3. ### ATTRIBUTES\n",
    "Classes and objects have attributes. Attributes are data stored inside a class or instance and represent the state or quality of the class or instance. In short, attributes store information about the instance.\n",
    "\n",
    "4. ### BEHAVIOUR\n",
    "Methods determine what type of functionality a class has, how it modifies its data, and its overall behavior."
   ]
  },
  {
   "cell_type": "code",
   "execution_count": null,
   "metadata": {},
   "outputs": [],
   "source": [
    "# Question 5\n",
    "class car ():\n",
    "    def __init__(car, name, color, year)\n",
    "    car.name = name\n",
    "    car.color = color\n",
    "    car.year = year\n",
    "\n",
    "# Method1,\n",
    "car1 = car(\"corolla\", 'white','2017')\n",
    "print(\"car1\")\n",
    "print(car1.name)\n",
    "print(car1.color)\n",
    "print(car1.year)\n",
    "print('\\n')\n",
    "\n",
    "\n",
    "# Method1,\n",
    "car1 = car(\"cultus\", 'white','2015')\n",
    "print(\"car1\")\n",
    "print(car1.name)\n",
    "print(car1.color)\n",
    "print(car1.year)\n",
    "print('\\n')"
   ]
  }
 ],
 "metadata": {
  "kernelspec": {
   "display_name": "Python 3",
   "language": "python",
   "name": "python3"
  },
  "language_info": {
   "codemirror_mode": {
    "name": "ipython",
    "version": 3
   },
   "file_extension": ".py",
   "mimetype": "text/x-python",
   "name": "python",
   "nbconvert_exporter": "python",
   "pygments_lexer": "ipython3",
   "version": "3.7.4"
  }
 },
 "nbformat": 4,
 "nbformat_minor": 2
}
