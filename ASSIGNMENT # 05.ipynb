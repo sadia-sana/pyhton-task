{
 "cells": [
  {
   "cell_type": "code",
   "execution_count": 1,
   "metadata": {},
   "outputs": [
    {
     "name": "stdout",
     "output_type": "stream",
     "text": [
      "24\n"
     ]
    }
   ],
   "source": [
    "#   ASSIGNMENT NO 5\n",
    "#QUESTION NO 1\n",
    "def factorial(num):\n",
    "    product = 1\n",
    "    while num > 0:\n",
    "        product *= num\n",
    "        num -= 1\n",
    "    print(product) \n",
    "        \n",
    "# Calling\n",
    "factorial(4)"
   ]
  },
  {
   "cell_type": "code",
   "execution_count": 4,
   "metadata": {},
   "outputs": [
    {
     "name": "stdout",
     "output_type": "stream",
     "text": [
      "There are 5 Lower case letters:\n",
      "There are 5 Upper case letters:\n"
     ]
    }
   ],
   "source": [
    "#QUESTION NO 2\n",
    "def case_counter(string):\n",
    "    upper_count = 0\n",
    "    lower_count = 0\n",
    "    for letter in string:\n",
    "        if letter == letter.lower():\n",
    "            lower_count += 1\n",
    "        elif letter == letter.upper():\n",
    "            upper_count += 1\n",
    "    print(f\"There are {lower_count} Lower case letters:\")\n",
    "    print(f\"There are {upper_count} Upper case letters:\")\n",
    "                \n",
    "#Calling\n",
    "case_counter(\"SADIA sana\")"
   ]
  },
  {
   "cell_type": "code",
   "execution_count": 5,
   "metadata": {},
   "outputs": [
    {
     "name": "stdout",
     "output_type": "stream",
     "text": [
      "2\n",
      "4\n",
      "6\n",
      "8\n",
      "10\n"
     ]
    }
   ],
   "source": [
    "#QUESTION NO 3\n",
    "def even_printer(numbers):\n",
    "    for number in numbers:\n",
    "        if number % 2 == 0:\n",
    "            print(number)\n",
    "            \n",
    "# Calling\n",
    "even_printer([1,2,3,4,5,6,7,8,9,10])"
   ]
  },
  {
   "cell_type": "code",
   "execution_count": 7,
   "metadata": {},
   "outputs": [
    {
     "name": "stdout",
     "output_type": "stream",
     "text": [
      "This is a palindrome string.\n",
      "This is not a palindrome string.\n"
     ]
    }
   ],
   "source": [
    "#QUESTION NO 4\n",
    "def check_palindrome(string):\n",
    "    if string == string[::-1]:\n",
    "        print(\"This is a palindrome string.\")\n",
    "    else:\n",
    "        print(\"This is not a palindrome string.\")\n",
    "        \n",
    "# Calling\n",
    "check_palindrome(\"madam\")\n",
    "check_palindrome(\"sadia\")"
   ]
  },
  {
   "cell_type": "code",
   "execution_count": 8,
   "metadata": {},
   "outputs": [
    {
     "name": "stdout",
     "output_type": "stream",
     "text": [
      "9 is not a prime number\n",
      "9 is not a prime number\n",
      "13 is a prime number !\n"
     ]
    }
   ],
   "source": [
    "#QUESTION NO 5\n",
    "def check_prime(num):\n",
    "    flag = True\n",
    "    if num > 1:\n",
    "        for i in range(2,num):\n",
    "            if (num % i) == 0:\n",
    "                print(num,\"is not a prime number\")\n",
    "                flag = False\n",
    "                break\n",
    "        if flag:\n",
    "            print(num, \"is a prime number !\")\n",
    "            \n",
    "        else:\n",
    "            print(num, \"is not a prime number\")\n",
    "            \n",
    "# Calling\n",
    "check_prime(9)\n",
    "check_prime(13)"
   ]
  },
  {
   "cell_type": "code",
   "execution_count": 9,
   "metadata": {},
   "outputs": [
    {
     "name": "stdout",
     "output_type": "stream",
     "text": [
      "Items:\n",
      "\n",
      "\tPizza\n",
      "\tTV\n",
      "\tRemote\n",
      "\tScrew Driver\n"
     ]
    }
   ],
   "source": [
    "#QUESTION NO 6\n",
    "def shopping(*items):\n",
    "    print(\"Items:\\n\")\n",
    "    for item in items:\n",
    "        print(f\"\\t{item}\")\n",
    "\n",
    "# Calling\n",
    "shopping(\"Pizza\",\"TV\",\"Remote\",\"Screw Driver\")"
   ]
  },
  {
   "cell_type": "code",
   "execution_count": null,
   "metadata": {},
   "outputs": [],
   "source": []
  }
 ],
 "metadata": {
  "kernelspec": {
   "display_name": "Python 3",
   "language": "python",
   "name": "python3"
  },
  "language_info": {
   "codemirror_mode": {
    "name": "ipython",
    "version": 3
   },
   "file_extension": ".py",
   "mimetype": "text/x-python",
   "name": "python",
   "nbconvert_exporter": "python",
   "pygments_lexer": "ipython3",
   "version": "3.7.4"
  }
 },
 "nbformat": 4,
 "nbformat_minor": 2
}
