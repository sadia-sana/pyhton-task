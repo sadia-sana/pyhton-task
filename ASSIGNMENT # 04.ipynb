{
 "cells": [
  {
   "cell_type": "code",
   "execution_count": 1,
   "metadata": {},
   "outputs": [
    {
     "name": "stdout",
     "output_type": "stream",
     "text": [
      "sadia\n",
      "sana\n",
      "21\n",
      "karachi\n"
     ]
    }
   ],
   "source": [
    "# ASSIGNMENT # 04\n",
    "\n",
    "# Question 1\n",
    "\n",
    "person = {\n",
    "    'first_name': 'sadia',\n",
    "    'last_name': 'sana',\n",
    "    'age': 21,\n",
    "    'city': 'karachi',\n",
    "    }\n",
    "\n",
    "print(person['first_name'])\n",
    "print(person['last_name'])\n",
    "print(person['age'])\n",
    "print(person['city'])"
   ]
  },
  {
   "cell_type": "code",
   "execution_count": 2,
   "metadata": {},
   "outputs": [
    {
     "name": "stdout",
     "output_type": "stream",
     "text": [
      "\n",
      "Karachi is in Pakistan.\n",
      "  It has a population of about 1889176.\n",
      "Play Vital Role In Pakistan Economic \n",
      "\n",
      "Sydney is in Australia.\n",
      "  It has a population of about 4741874.\n",
      "Capital City\n",
      "\n",
      "Tokyo is in Japan.\n",
      "  It has a population of about 37435191.\n",
      "Capital City\n"
     ]
    }
   ],
   "source": [
    "# Question 2\n",
    "\n",
    "cities = {\n",
    "    'karachi': {\n",
    "        'country': 'pakistan',\n",
    "        'population': 1889176,\n",
    "        'fact': 'play vital role in Pakistan economic ',\n",
    "        },\n",
    "    'sydney': {\n",
    "        'country': 'australia',\n",
    "        'population': 4741874,\n",
    "        'fact': 'capital city',\n",
    "        },\n",
    "    'tokyo': {\n",
    "        'country': 'japan',\n",
    "        'population': 37435191,\n",
    "        'fact': 'capital city',\n",
    "        }\n",
    "    }\n",
    "\n",
    "for city, city_info in cities.items():\n",
    "    country = city_info['country'].title()\n",
    "    population = city_info['population']\n",
    "    fact = city_info['fact'].title()\n",
    "\n",
    "    print(\"\\n\" + city.title() + \" is in \" + country + \".\")\n",
    "    print(\"  It has a population of about \" + str(population) + \".\")\n",
    "    print(fact)"
   ]
  },
  {
   "cell_type": "code",
   "execution_count": 3,
   "metadata": {},
   "outputs": [
    {
     "name": "stdout",
     "output_type": "stream",
     "text": [
      "Enter your age to know about ticket\n",
      " but if you want to exit enter 'quit'\n",
      "  2\n",
      "  You get in free!\n",
      "Enter your age to know about ticket\n",
      " but if you want to exit enter 'quit'\n",
      "  14\n",
      "  Your ticket is $15.\n",
      "Enter your age to know about ticket\n",
      " but if you want to exit enter 'quit'\n",
      "  7\n",
      "  Your ticket is $10.\n",
      "Enter your age to know about ticket\n",
      " but if you want to exit enter 'quit'\n",
      "  22\n",
      "  Your ticket is $15.\n",
      "Enter your age to know about ticket\n",
      " but if you want to exit enter 'quit'\n",
      "  quit\n"
     ]
    }
   ],
   "source": [
    "# Question 03\n",
    "entry = \"Enter your age to know about ticket\\n but if you want to exit enter 'quit'\\n  \"\n",
    "#entry += \"\\nEnter 'quit' when you want to exit\\n. \"\n",
    "\n",
    "while True:\n",
    "    age = input(entry)\n",
    "    if age == 'quit':\n",
    "        break\n",
    "    age = int(age)\n",
    "\n",
    "    if age < 3:\n",
    "        print(\"  You get in free!\")\n",
    "    elif age < 13:\n",
    "        print(\"  Your ticket is $10.\")\n",
    "    else:\n",
    "        \n",
    "        print(\"  Your ticket is $15.\")\n"
   ]
  },
  {
   "cell_type": "code",
   "execution_count": 4,
   "metadata": {},
   "outputs": [
    {
     "name": "stdout",
     "output_type": "stream",
     "text": [
      "harry potter is one of my favorite books.\n"
     ]
    }
   ],
   "source": [
    "# Question 04\n",
    "\n",
    "def favorite_book(title):\n",
    "\n",
    "    print(title + \" is one of my favorite books.\")\n",
    "\n",
    "favorite_book('harry potter')"
   ]
  },
  {
   "cell_type": "code",
   "execution_count": 7,
   "metadata": {},
   "outputs": [
    {
     "name": "stdout",
     "output_type": "stream",
     "text": [
      "Guess a number between 1 and 20 until you get it right : 1\n",
      "Guess a number between 1 and 20 until you get it right : 11\n",
      "Well guessed!\n"
     ]
    }
   ],
   "source": [
    "# Question 5\n",
    "\n",
    "import random\n",
    "target_num, guess_num = random.randint(1, 20), 0\n",
    "while target_num != guess_num:\n",
    "    guess_num = int(input('Guess a number between 1 and 20 until you get it right : '))\n",
    "print('Well guessed!')"
   ]
  },
  {
   "cell_type": "code",
   "execution_count": null,
   "metadata": {},
   "outputs": [],
   "source": []
  }
 ],
 "metadata": {
  "kernelspec": {
   "display_name": "Python 3",
   "language": "python",
   "name": "python3"
  },
  "language_info": {
   "codemirror_mode": {
    "name": "ipython",
    "version": 3
   },
   "file_extension": ".py",
   "mimetype": "text/x-python",
   "name": "python",
   "nbconvert_exporter": "python",
   "pygments_lexer": "ipython3",
   "version": "3.7.4"
  }
 },
 "nbformat": 4,
 "nbformat_minor": 2
}
